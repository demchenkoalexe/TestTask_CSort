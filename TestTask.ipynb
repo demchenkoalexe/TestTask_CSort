{
 "cells": [
  {
   "cell_type": "code",
   "execution_count": 2,
   "metadata": {},
   "outputs": [
    {
     "data": {
      "text/plain": [
       "True"
      ]
     },
     "execution_count": 2,
     "metadata": {},
     "output_type": "execute_result"
    }
   ],
   "source": [
    "import numpy as np\n",
    "import cv2\n",
    "\n",
    "# загрузите изображение, смените цвет на оттенки серого и уменьшите резкость\n",
    "image = cv2.imread(\"images/series1/1_1.bmp\")\n",
    "gray = cv2.cvtColor(image, cv2.COLOR_BGR2GRAY)\n",
    "gray = cv2.GaussianBlur(gray, (3, 3), 0)\n",
    "cv2.imwrite(\"result/1_1_gray.bmp\", gray)"
   ]
  },
  {
   "cell_type": "code",
   "execution_count": 18,
   "metadata": {},
   "outputs": [
    {
     "data": {
      "text/plain": [
       "True"
      ]
     },
     "execution_count": 18,
     "metadata": {},
     "output_type": "execute_result"
    }
   ],
   "source": [
    "# параметры цветового фильтра\n",
    "hsv_min = np.array((7, 40, 60), np.uint8)\n",
    "hsv_max = np.array((15, 255, 200), np.uint8)\n",
    "\n",
    "hsv = cv2.cvtColor(image, cv2.COLOR_BGR2HSV) # меняем цветовую модель с BGR на HSV \n",
    "cv2.imwrite(\"result/1_1_hsv.bmp\", hsv)\n",
    "cont = cv2.inRange(hsv, hsv_min, hsv_max)\n",
    "cv2.imwrite(\"result/1_1_cont.bmp\", cont)"
   ]
  },
  {
   "cell_type": "code",
   "execution_count": 19,
   "metadata": {},
   "outputs": [
    {
     "name": "stdout",
     "output_type": "stream",
     "text": [
      "There are 545 cells in the image.\n"
     ]
    }
   ],
   "source": [
    "seed_pt = (25, 25)\n",
    "fill_color = 0\n",
    "mask = np.zeros_like(cont)\n",
    "kernel = cv2.getStructuringElement(cv2.MORPH_RECT, (3, 3))\n",
    "for th in range(60, 120):\n",
    "    prev_mask = mask.copy()\n",
    "    mask = cv2.threshold(cont, th, 255, cv2.THRESH_BINARY)[1]\n",
    "    mask = cv2.floodFill(mask, None, seed_pt, fill_color)[1]\n",
    "    mask = cv2.bitwise_or(mask, prev_mask)\n",
    "    mask = cv2.morphologyEx(mask, cv2.MORPH_OPEN, kernel)\n",
    "\n",
    "n_centers = cv2.connectedComponents(mask)[0] - 1\n",
    "print('There are %d cells in the image.'%n_centers)"
   ]
  },
  {
   "cell_type": "code",
   "execution_count": null,
   "metadata": {},
   "outputs": [],
   "source": []
  }
 ],
 "metadata": {
  "kernelspec": {
   "display_name": "Python 3",
   "language": "python",
   "name": "python3"
  },
  "language_info": {
   "codemirror_mode": {
    "name": "ipython",
    "version": 3
   },
   "file_extension": ".py",
   "mimetype": "text/x-python",
   "name": "python",
   "nbconvert_exporter": "python",
   "pygments_lexer": "ipython3",
   "version": "3.7.1"
  }
 },
 "nbformat": 4,
 "nbformat_minor": 2
}
