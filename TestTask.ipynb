{
 "cells": [
  {
   "cell_type": "code",
   "execution_count": 277,
   "metadata": {},
   "outputs": [
    {
     "data": {
      "text/plain": [
       "True"
      ]
     },
     "execution_count": 277,
     "metadata": {},
     "output_type": "execute_result"
    }
   ],
   "source": [
    "import numpy as np\n",
    "import cv2\n",
    "import sys\n",
    "\n",
    "pathImage = input(\"Путь до изображения: \")\n",
    "\n",
    "# Загружаем и клонируем изображение для работы с ним\n",
    "image = cv2.imread(pathImage)\n",
    "clone = image.copy()\n",
    "cv2.imwrite(\"result/clone.bmp\", clone)"
   ]
  },
  {
   "cell_type": "markdown",
   "metadata": {},
   "source": [
    "HSV (англ. Hue, Saturation, Value — тон, насыщенность, значение) — цветовая модель, в которой координатами цвета являются:\n",
    "    \n",
    "* Hue — цветовой тон, (например, красный, зелёный или сине-голубой). Варьируется в пределах 0—360°, однако иногда приводится к диапазону 0—100 или 0—1.\n",
    "* Saturation — насыщенность. Варьируется в пределах 0—100 или 0—1. Чем больше этот параметр, тем «чище» цвет, поэтому этот параметр иногда называют чистотой цвета. А чем ближе этот параметр к нулю, тем ближе цвет к нейтральному серому.\n",
    "* Value (значение цвета) или Brightness — яркость. Также задаётся в пределах 0—100 и 0—1.\n",
    "    \n",
    "Эта модель очень удобна для поиска на изображении объектов по цвету (и яркости). Например, объекты с выделяющимся цветом."
   ]
  },
  {
   "cell_type": "code",
   "execution_count": 279,
   "metadata": {},
   "outputs": [
    {
     "data": {
      "text/plain": [
       "True"
      ]
     },
     "execution_count": 279,
     "metadata": {},
     "output_type": "execute_result"
    }
   ],
   "source": [
    "# Меняем цветовую модель с BGR на HSV\n",
    "hsv = cv2.cvtColor(clone, cv2.COLOR_BGR2HSV)\n",
    "cv2.imwrite(\"result/hsv.bmp\", hsv)"
   ]
  },
  {
   "cell_type": "markdown",
   "metadata": {},
   "source": [
    "Формируем бинарное изображение, которое получается из тех пикселей канала, значение которых больше hsv_min и меньше hsv_max."
   ]
  },
  {
   "cell_type": "code",
   "execution_count": 280,
   "metadata": {},
   "outputs": [
    {
     "data": {
      "text/plain": [
       "True"
      ]
     },
     "execution_count": 280,
     "metadata": {},
     "output_type": "execute_result"
    }
   ],
   "source": [
    "# Параметры цветового фильтра\n",
    "hsv_min = np.array((7, 120, 0), np.uint8)\n",
    "hsv_max = np.array((15, 255, 200), np.uint8)\n",
    "\n",
    "cont = cv2.inRange(hsv, hsv_min, hsv_max)\n",
    "cv2.imwrite(\"result/cont.bmp\", cont)"
   ]
  },
  {
   "cell_type": "markdown",
   "metadata": {},
   "source": [
    "Подход учитывает только центры кругов. "
   ]
  },
  {
   "cell_type": "code",
   "execution_count": 281,
   "metadata": {},
   "outputs": [
    {
     "name": "stdout",
     "output_type": "stream",
     "text": [
      "325 необрушенных зёрен на картинке.\n"
     ]
    }
   ],
   "source": [
    "seed_pt = (25, 25)\n",
    "fill_color = 0\n",
    "mask = np.zeros_like(cont)\n",
    "kernel = cv2.getStructuringElement(cv2.MORPH_RECT, (5, 5))\n",
    "\n",
    "prev_mask = mask.copy()\n",
    "mask = cv2.threshold(cont, 0, 255, cv2.THRESH_BINARY)[1]\n",
    "mask = cv2.floodFill(mask, None, seed_pt, fill_color)[1]\n",
    "mask = cv2.bitwise_or(mask, prev_mask)\n",
    "mask = cv2.morphologyEx(mask, cv2.MORPH_OPEN, kernel)\n",
    "\n",
    "n_centers = cv2.connectedComponentsWithStats(mask)[0] - 1\n",
    "n_centers1 = cv2.connectedComponentsWithStats(mask)[3]\n",
    "\n",
    "print(\"%d необрушенных зёрен на картинке.\"%n_centers)"
   ]
  },
  {
   "cell_type": "markdown",
   "metadata": {},
   "source": [
    "Вывод на картинку местоположение необрушенных зёрен."
   ]
  },
  {
   "cell_type": "code",
   "execution_count": 282,
   "metadata": {
    "scrolled": true
   },
   "outputs": [
    {
     "data": {
      "text/plain": [
       "True"
      ]
     },
     "execution_count": 282,
     "metadata": {},
     "output_type": "execute_result"
    }
   ],
   "source": [
    "k = 1\n",
    "for i in n_centers1:\n",
    "    cv2.putText(clone, str(k), (int(i[0]), int(i[1])), cv2.FONT_HERSHEY_SIMPLEX, 1, (255,255,255), 3)\n",
    "    k += 1\n",
    "cv2.imwrite(\"result/clone.bmp\", clone)"
   ]
  }
 ],
 "metadata": {
  "kernelspec": {
   "display_name": "Python 3",
   "language": "python",
   "name": "python3"
  },
  "language_info": {
   "codemirror_mode": {
    "name": "ipython",
    "version": 3
   },
   "file_extension": ".py",
   "mimetype": "text/x-python",
   "name": "python",
   "nbconvert_exporter": "python",
   "pygments_lexer": "ipython3",
   "version": "3.7.1"
  }
 },
 "nbformat": 4,
 "nbformat_minor": 2
}
